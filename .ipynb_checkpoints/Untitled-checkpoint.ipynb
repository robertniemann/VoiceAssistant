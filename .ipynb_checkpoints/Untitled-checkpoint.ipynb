{
 "cells": [
  {
   "cell_type": "code",
   "execution_count": 55,
   "metadata": {},
   "outputs": [],
   "source": [
    "import speech_recognition as sr\n",
    "import os\n",
    "import pyttsx3\n",
    "\n",
    "r = sr.Recognizer()\n",
    "mic = sr.Microphone()\n",
    "obj = pyttsx3.init()\n",
    "\n",
    "def listenToText(r, mic):\n",
    "    with sr.Microphone() as source:\n",
    "        audio = r.listen(source)\n",
    "    try:\n",
    "        txt = r.recognize_google(audio)\n",
    "    except sr.UnknownValueError:\n",
    "        return ''\n",
    "    else:\n",
    "        return txt\n",
    "\n",
    "def tts(obj, txt):\n",
    "    obj.say(txt)\n",
    "    obj.runAndWait()\n",
    "\n",
    "#types of questions:\n",
    "#1: search\n",
    "#2: play music\n",
    "#3: weather\n",
    "#4: quit\n",
    "#5: call\n",
    "#6: text\n",
    "#7: open app\n",
    "#8: take photo\n",
    "\n",
    "def callFunction(questionQuery):\n",
    "    parts = questionQuery.split('call ')\n",
    "    if len(parts) > 2:\n",
    "        tts(obj, \"I'm sorry, who were you trying to call?\")\n",
    "        txt = listenToText(r, mic)\n",
    "        callFunction(txt)\n",
    "    elif len(parts) == 1:\n",
    "        tts(obj, (\"Call \" + parts[0]))\n",
    "    else:\n",
    "        tts(obj, (\"Call \" + parts[1]))\n",
    "    return True\n",
    "        \n",
    "def textFunction(questionQuery):\n",
    "    parts = questionQuery.split('text ')\n",
    "    if len(parts) > 2:\n",
    "        tts(obj, \"I'm sorry, who were you trying to text?\")\n",
    "        txt = listenToText(r, mic)\n",
    "        callFunction(txt)\n",
    "    elif len(parts) == 1:\n",
    "        tts(obj, (\"Text \" + parts[0]))\n",
    "    else:\n",
    "        tts(obj, (\"Text \" + parts[1]))\n",
    "    return True\n",
    "        \n",
    "def quitFunction():\n",
    "    tts(obj, (\"Have a nice day\"))\n",
    "    return False\n",
    "\n",
    "def absentQuitFunction():\n",
    "    tts(obj, (\"Did you need anything else?\"))\n",
    "    questionQuery = listenToText(r, mic)\n",
    "    if (questionQuery == '') or (questionQuery == 'No'):\n",
    "        return False\n",
    "    else:\n",
    "        return True\n",
    "\n",
    "def listenAndApply(questionQuery):\n",
    "    if 'call' in questionQuery:\n",
    "        return callFunction(questionQuery)\n",
    "    elif 'text' in questionQuery:\n",
    "        return textFunction(questionQuery)\n",
    "    elif 'open' in questionQuery:\n",
    "        return openFunction(questionQuery)\n",
    "    elif ('play' in questionQuery) or ('music' in questionQuery):\n",
    "        return playFunction(questionQuery)\n",
    "    elif ('take' in questionQuery) or ('picture' in questionQuery) or ('photo' in questionQuery):\n",
    "        return photoFunction(questionQuery)\n",
    "    elif ('weather' in questionQuery) or ('outside' in questionQuery):\n",
    "        return weatherFunction(questionQuery)\n",
    "    elif ('thank you' in questionQuery) or ('okay' in questionQuery) or ('stop' in questionQuery):\n",
    "        return quitFunction()\n",
    "    elif ('' == questionQuery):\n",
    "        return absentQuitFunction()\n",
    "    else:\n",
    "        searchFunction(questionQuery)"
   ]
  },
  {
   "cell_type": "code",
   "execution_count": 57,
   "metadata": {},
   "outputs": [
    {
     "name": "stdout",
     "output_type": "stream",
     "text": [
      "Should be happening yoooo\n"
     ]
    }
   ],
   "source": [
    "tts(obj, \"Hello, how can I be of service\")\n",
    "boolin = True\n",
    "while(boolin):\n",
    "    print('Should be happening yoooo')\n",
    "    questionQuery = listenToText(r, mic)\n",
    "    boolin = listenAndApply(questionQuery)"
   ]
  },
  {
   "cell_type": "code",
   "execution_count": null,
   "metadata": {},
   "outputs": [],
   "source": []
  }
 ],
 "metadata": {
  "kernelspec": {
   "display_name": "Python 3",
   "language": "python",
   "name": "python3"
  },
  "language_info": {
   "codemirror_mode": {
    "name": "ipython",
    "version": 3
   },
   "file_extension": ".py",
   "mimetype": "text/x-python",
   "name": "python",
   "nbconvert_exporter": "python",
   "pygments_lexer": "ipython3",
   "version": "3.8.5"
  }
 },
 "nbformat": 4,
 "nbformat_minor": 4
}
